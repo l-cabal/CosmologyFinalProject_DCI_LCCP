{
  "nbformat": 4,
  "nbformat_minor": 0,
  "metadata": {
    "colab": {
      "name": "MetropolisHastings-FinalProjectCOSMO_LCCP.ipynb",
      "provenance": [],
      "collapsed_sections": [
        "jWwZdxlvZcrc"
      ]
    },
    "kernelspec": {
      "name": "python3",
      "display_name": "Python 3"
    },
    "language_info": {
      "name": "python"
    }
  },
  "cells": [
    {
      "cell_type": "code",
      "execution_count": null,
      "metadata": {
        "id": "nK4uvTRJnXND"
      },
      "outputs": [],
      "source": [
        "import matplotlib.pyplot as plt\n",
        "import numpy as np\n",
        "from sklearn import preprocessing\n",
        "import random \n",
        "import statistics as st\n",
        "import scipy\n",
        "from scipy.optimize import minimize "
      ]
    },
    {
      "cell_type": "markdown",
      "source": [
        "Posterior = normalize(likelihood * prior)"
      ],
      "metadata": {
        "id": "JuKYhBsuygBj"
      }
    },
    {
      "cell_type": "markdown",
      "source": [
        "Prior = usaremos Jeffrey's => Pr(Theta)= 1/Theta"
      ],
      "metadata": {
        "id": "w4rMuNaQ-VHk"
      }
    },
    {
      "cell_type": "markdown",
      "source": [
        "##Primer intento (FALLIDO)"
      ],
      "metadata": {
        "id": "jWwZdxlvZcrc"
      }
    },
    {
      "cell_type": "code",
      "source": [
        "#Pra la recta probaremos con la recta y=2*x+1\n",
        "#def Function(x, ):\n",
        "#  PFunc = m*x + b\n"
      ],
      "metadata": {
        "id": "zSgtdS-c7Og9"
      },
      "execution_count": null,
      "outputs": []
    },
    {
      "cell_type": "code",
      "source": [
        "#Recta y= 2*x + 1\n",
        "def RectaParam(Theta):\n",
        "  #print(Theta[0])\n",
        "  xparam = np.linspace(0,20,100)\n",
        "  yparam = Theta[0] * x + Theta[1]\n",
        "  #print(len(y))\n",
        "  return xparam ,yparam\n",
        "\n",
        "def Recta():\n",
        "  x = np.linspace(0,20,100)\n",
        "  y = 2 * x + 1\n",
        "  return x, y\n",
        "x,y = Recta()\n",
        "#print(y)\n",
        "plt.plot(x,y)\n",
        "plt.show()\n",
        "stdTheo = st.stdev(y)\n",
        "mu = np.mean(y)\n",
        "#print(mu)"
      ],
      "metadata": {
        "colab": {
          "base_uri": "https://localhost:8080/",
          "height": 265
        },
        "id": "AEuWvfxLHVpJ",
        "outputId": "e0a69eff-463e-4eec-c5bf-44f116b320e7"
      },
      "execution_count": null,
      "outputs": [
        {
          "output_type": "display_data",
          "data": {
            "text/plain": [
              "<Figure size 432x288 with 1 Axes>"
            ],
            "image/png": "[encoded data removed]"
          },
          "metadata": {
            "needs_background": "light"
          }
        }
      ]
    },
    {
      "cell_type": "code",
      "source": [
        "import math\n",
        "def Likelihood(x, y, mu , Theta): #Para distribucion gaussiana\n",
        "  #Creo que desvestandar lo proponemos\n",
        "  #Para cada punto\n",
        "  #print(Theta)\n",
        "  xMod , yMod = RectaParam(Theta)\n",
        "  llh=1\n",
        "  for i in range(len(x)):\n",
        "    dat= [y[i], yMod[i]]\n",
        "    stdTheo = st.stdev(dat)\n",
        "    numerator = np.exp((-(y[i]-mu)**2)/(2*stdTheo**2))\n",
        "    #print(numerator)\n",
        "    denominator = stdTheo * np.sqrt(2*np.pi)\n",
        "    div = numerator/denominator\n",
        "    #print(div)\n",
        "    llh *= div\n",
        "  likelihood = llh\n",
        "  return likelihood\n",
        "#llk= Likelihood(x,y,mu )\n",
        "#print(llk)"
      ],
      "metadata": {
        "id": "h0sl52wIA_7g"
      },
      "execution_count": null,
      "outputs": []
    },
    {
      "cell_type": "code",
      "source": [
        "def Prior(Theta):\n",
        "  prior = 1/Theta[0] * 1/Theta[1]\n",
        "  return prior"
      ],
      "metadata": {
        "id": "i2GxdUhzay85"
      },
      "execution_count": null,
      "outputs": []
    },
    {
      "cell_type": "code",
      "source": [
        "def P_acc(Theta, Thetast, Theta_trial, mu):\n",
        "  likelihood = Likelihood(x, y ,mu,Thetast)\n",
        "  likelihood_trial = Likelihood(x,y,mu,Theta_trial)\n",
        "  prior = Prior(Theta)\n",
        "  prior_trial = Prior(Theta_trial)\n",
        "  PTheta = likelihood * prior\n",
        "  PTheta_trial = likelihood_trial * prior_trial\n",
        "  Pacc = min(1, PTheta_trial / PTheta)\n",
        "  return(Pacc)\n"
      ],
      "metadata": {
        "id": "isDpJ_Jld1Ay"
      },
      "execution_count": null,
      "outputs": []
    },
    {
      "cell_type": "code",
      "source": [
        "#def MatrixCov():\n",
        "#  matcov= np.cov(x,y)\n"
      ],
      "metadata": {
        "id": "4_mD5h1Wx-Lt"
      },
      "execution_count": null,
      "outputs": []
    },
    {
      "cell_type": "code",
      "source": [
        "def MetropolisHastings(N, y, x):\n",
        "  Theta1 = [0.1]\n",
        "  Theta2 = [0.1]\n",
        "  Theta=[0.1, 0.1]\n",
        "  step = 0.5\n",
        "  ThetaStart = Theta\n",
        "  for n in range(N):\n",
        "    ThetaTrial =[]\n",
        "    for j in range(2):\n",
        "      TT = np.random.normal(loc= ThetaStart[j], scale = 0.1)\n",
        "      ThetaTrial.append(TT)\n",
        "    Pacc = P_acc(Theta, ThetaStart, ThetaTrial, mu)\n",
        "    u = random.uniform(0,1)\n",
        "    print(\"Pacc is\" + str(Pacc))\n",
        "    if Pacc > u:\n",
        "      for c in range(2):\n",
        "        Thetai = ThetaTrial[c]\n",
        "        Theta.append(Thetai)\n",
        "        if c== 0:\n",
        "          Theta1.append(Thetai)\n",
        "        if c==1:\n",
        "          Theta2.append(Thetai)\n",
        "        print(\"Thetatrial is= \" + str(ThetaTrial))\n",
        "        print(\"Theta start is\" + str(ThetaStart))\n",
        "        print(\"Theta is \" + str(Theta))\n",
        "    else:\n",
        "      for c in range(2):\n",
        "        Thetai = ThetaStart[c]\n",
        "        print(Thetai)\n",
        "        Theta.append(Thetai)\n",
        "        if c== 0:\n",
        "          Theta1.append(Thetai)\n",
        "        if c==1:\n",
        "          Theta2.append(Thetai)\n",
        "      #Thetai = ThetaStart\n",
        "      #Theta.append(Thetai)\n",
        "    for s in range(len(ThetaStart)):\n",
        "      ThetaStart[s] += step\n",
        "    \n",
        "  return len(Theta)\n",
        "\n",
        "#print(Theta)\n"
      ],
      "metadata": {
        "id": "qaDzQjm2nl-E"
      },
      "execution_count": null,
      "outputs": []
    },
    {
      "cell_type": "code",
      "source": [
        "Teoria = Recta()\n",
        "#modelo = RectaParam()\n",
        "#print(modelo)"
      ],
      "metadata": {
        "id": "jxFcaHJMnmBG"
      },
      "execution_count": null,
      "outputs": []
    },
    {
      "cell_type": "code",
      "source": [
        "Paramteters= MetropolisHastings(N= 2, y= Teoria[1], x=Teoria[0])\n",
        "print(Paramteters)"
      ],
      "metadata": {
        "colab": {
          "base_uri": "https://localhost:8080/"
        },
        "id": "xdHOiJzsnmES",
        "outputId": "033c70fc-f5ea-4567-86eb-2bca07f0d5fa"
      },
      "execution_count": null,
      "outputs": [
        {
          "output_type": "stream",
          "name": "stdout",
          "text": [
            "Pacc is1\n",
            "Thetatrial is= [0.10212179829988136, -0.010544102113784176]\n",
            "Theta start is[0.1, 0.1, 0.10212179829988136]\n",
            "Theta is [0.1, 0.1, 0.10212179829988136]\n",
            "Thetatrial is= [0.10212179829988136, -0.010544102113784176]\n",
            "Theta start is[0.1, 0.1, 0.10212179829988136, -0.010544102113784176]\n",
            "Theta is [0.1, 0.1, 0.10212179829988136, -0.010544102113784176]\n",
            "Pacc is1\n",
            "Thetatrial is= [0.5471975413263768, 0.6559133199741076]\n",
            "Theta start is[0.6, 0.6, 0.6021217982998813, 0.4894558978862158, 0.5471975413263768]\n",
            "Theta is [0.6, 0.6, 0.6021217982998813, 0.4894558978862158, 0.5471975413263768]\n",
            "Thetatrial is= [0.5471975413263768, 0.6559133199741076]\n",
            "Theta start is[0.6, 0.6, 0.6021217982998813, 0.4894558978862158, 0.5471975413263768, 0.6559133199741076]\n",
            "Theta is [0.6, 0.6, 0.6021217982998813, 0.4894558978862158, 0.5471975413263768, 0.6559133199741076]\n",
            "6\n"
          ]
        },
        {
          "output_type": "stream",
          "name": "stderr",
          "text": [
            "/usr/local/lib/python3.7/dist-packages/ipykernel_launcher.py:8: RuntimeWarning: invalid value encountered in double_scalars\n",
            "  \n"
          ]
        }
      ]
    },
    {
      "cell_type": "code",
      "source": [
        ""
      ],
      "metadata": {
        "id": "z26icFFyQ0Vz"
      },
      "execution_count": null,
      "outputs": []
    },
    {
      "cell_type": "markdown",
      "source": [
        "## Segundo Intento"
      ],
      "metadata": {
        "id": "AB3kRcETZjDD"
      }
    },
    {
      "cell_type": "code",
      "source": [
        "#\n",
        "#Recta y= 2*x + 1\n",
        "def RectaModel(Theta):\n",
        "  #print(Theta[0])\n",
        "  xparam = np.linspace(0,20,100)\n",
        "  yparam = Theta[0] * x + Theta[1]\n",
        "  #print(len(y))\n",
        "  return xparam ,yparam"
      ],
      "metadata": {
        "id": "A8jCbLZzbMXy"
      },
      "execution_count": null,
      "outputs": []
    },
    {
      "cell_type": "code",
      "source": [
        "def Recta():\n",
        "  x = np.linspace(0,20,100)\n",
        "  y = 2 * x + 1\n",
        "  return x, y\n",
        "\n",
        "  \n",
        "x,y = Recta()\n",
        "#print(y)\n",
        "plt.plot(x,y)\n",
        "plt.show()\n",
        "stdTheo = st.stdev(y)\n",
        "mu = np.mean(y)\n",
        "#print(mu)"
      ],
      "metadata": {
        "colab": {
          "base_uri": "https://localhost:8080/",
          "height": 265
        },
        "id": "ZtmJ65kdZyLh",
        "outputId": "9f259a07-114b-415d-a682-5389aae726c0"
      },
      "execution_count": null,
      "outputs": [
        {
          "output_type": "display_data",
          "data": {
            "text/plain": [
              "<Figure size 432x288 with 1 Axes>"
            ],
            "image/png": "[encoded data removed]"
          },
          "metadata": {
            "needs_background": "light"
          }
        }
      ]
    },
    {
      "cell_type": "code",
      "source": [
        "#ln(m/n) = ln(m) – ln(n)\n",
        "def Likelihood(y,mu, Theta):\n",
        "  sigma =[]\n",
        "  likelihood = 0\n",
        "  xmod, ymod = RectaModel(Theta) #N\n",
        "  for i in range(len(x)):\n",
        "    sig = 0.2 #Asumiendo desviacion estandar\n",
        "    sigma.append(sig)\n",
        "  for i in range(len(sigma)):  #Applying ln\n",
        "    numerator = ((-(y[i]-ymod[i])**2)/(2*sigma[i]**2))\n",
        "    denominator = np.log(sigma[i] * np.sqrt(2*np.pi))\n",
        "    lik = (numerator-denominator)\n",
        "    likelihood += lik\n",
        "\n",
        "  return likelihood"
      ],
      "metadata": {
        "id": "Y_kdzwLXZo1O"
      },
      "execution_count": 17,
      "outputs": []
    },
    {
      "cell_type": "code",
      "source": [
        "def Prior(Theta):\n",
        "  prior = Theta[0]/Theta[1]\n",
        "  return prior"
      ],
      "metadata": {
        "id": "5i4hdp2xZoxr"
      },
      "execution_count": 18,
      "outputs": []
    },
    {
      "cell_type": "code",
      "source": [
        "def AccProb(ThetaTrial, Theta,y,mu):\n",
        "  likelihoodTrial = Likelihood(y,mu, ThetaTrial)\n",
        "  priorTrial = Prior(ThetaTrial)\n",
        "  likelihoodTheta = Likelihood(y,mu, Theta)\n",
        "  priorTheta = Prior(Theta)\n",
        "  P_Trial=likelihoodTrial * priorTrial\n",
        "  P_Theta=likelihoodTheta * priorTheta\n",
        "  Pacc=(min(1,P_Trial/P_Theta))\n",
        "  return Pacc"
      ],
      "metadata": {
        "id": "vpQIoH-ckSL3"
      },
      "execution_count": 21,
      "outputs": []
    },
    {
      "cell_type": "code",
      "source": [
        "def MetropolisHastings2(N): #Lo hago para 2 parametros por que la recta tiene la m y la b y es lo primero que intentaremos\n",
        "  Theta = [0.1,0.1]\n",
        "  Theta1 =[0.1]\n",
        "  Theta2=[0.1]\n",
        "  for n in range(N):\n",
        "    ThetaStart = Theta\n",
        "    ThetaTrial =[0,0]  \n",
        "    ThetaTrial[0] = np.random.normal(loc=Theta[0], scale=0.2)\n",
        "    ThetaTrial[1] = np.random.normal(loc=Theta[1], scale=0.2)\n",
        "    Pacc = AccProb(ThetaTrial, Theta,y,mu)\n",
        "    u = np.random.uniform(0,1)\n",
        "    if Pacc > u:\n",
        "      Theta[0]=ThetaTrial[0]\n",
        "      Theta[1]=ThetaTrial[1]\n",
        "      Theta1.append(Theta[0])\n",
        "      Theta2.append(Theta[1])\n",
        "    else:\n",
        "      Theta[0]=Theta[0]\n",
        "      Theta[1]=Theta[1]\n",
        "      Theta1.append(Theta[0])\n",
        "      Theta2.append(Theta[1])\n",
        "  return Theta, Theta1, Theta2\n",
        "\n",
        "    "
      ],
      "metadata": {
        "id": "omFQ032RZouU"
      },
      "execution_count": 22,
      "outputs": []
    },
    {
      "cell_type": "code",
      "source": [
        "#np.random.normal(loc=0, scale=0.2)\n",
        "\n",
        "#np.random.uniform(0, 1)\n",
        "#Theta, Theta1 , Theta2 = MetropolisHastings2(1000)\n",
        "#print(Theta1)"
      ],
      "metadata": {
        "id": "NJ98qTrnZorv"
      },
      "execution_count": null,
      "outputs": []
    },
    {
      "cell_type": "code",
      "source": [
        "Theta, Theta1 , Theta2 = MetropolisHastings2(1000)\n",
        "plt.plot(Theta1, Theta2, \".\")\n",
        "plt.show()"
      ],
      "metadata": {
        "colab": {
          "base_uri": "https://localhost:8080/",
          "height": 265
        },
        "id": "P92kU9CbZoow",
        "outputId": "ae0f9d80-d6e0-49fd-c034-a0cbbf7673a5"
      },
      "execution_count": null,
      "outputs": [
        {
          "output_type": "display_data",
          "data": {
            "text/plain": [
              "<Figure size 432x288 with 1 Axes>"
            ],
            "image/png": "[encoded data removed]"
          },
          "metadata": {
            "needs_background": "light"
          }
        }
      ]
    },
    {
      "cell_type": "code",
      "source": [
        "#Me quedaré con estos valores asi que ya no correremos esta linea\n",
        "\n",
        "#Plot para ver donde converge (se juntan todos los puntos)\n",
        "ThetaRecta = Theta\n",
        "Theta1Recta=Theta1\n",
        "Theta2Recta =Theta2\n",
        "plt.plot(Theta1, Theta2, \".\")\n",
        "plt.show()\n",
        "#Despues de correr varias veces el código, Tenemos esta grafica que se aglomera en theta1 = m= 2 y Theta2 = b = 1"
      ],
      "metadata": {
        "colab": {
          "base_uri": "https://localhost:8080/",
          "height": 265
        },
        "id": "wQnKw2clZol8",
        "outputId": "3e44e4f4-58d1-4ba9-9f6a-bffb79240b9e"
      },
      "execution_count": null,
      "outputs": [
        {
          "output_type": "display_data",
          "data": {
            "text/plain": [
              "<Figure size 432x288 with 1 Axes>"
            ],
            "image/png": "[encoded data removed]"
          },
          "metadata": {
            "needs_background": "light"
          }
        }
      ]
    },
    {
      "cell_type": "code",
      "source": [
        "#TracePlot\n",
        "r = np.linspace(0, 10, 1001)\n",
        "plt.plot(r, Theta1Recta, color = \"r\")\n",
        "plt.plot(r, Theta2Recta, color = \"b\")\n",
        "plt.show()"
      ],
      "metadata": {
        "colab": {
          "base_uri": "https://localhost:8080/",
          "height": 266
        },
        "id": "_eIbyjogZojF",
        "outputId": "d414481a-4e5a-4890-e897-0ce1f8547618"
      },
      "execution_count": null,
      "outputs": [
        {
          "output_type": "display_data",
          "data": {
            "text/plain": [
              "<Figure size 432x288 with 1 Axes>"
            ],
            "image/png": "[encoded data removed]"
          },
          "metadata": {
            "needs_background": "light"
          }
        }
      ]
    },
    {
      "cell_type": "markdown",
      "source": [
        "## Para las supernovas"
      ],
      "metadata": {
        "id": "aZfXH4FWnj55"
      }
    },
    {
      "cell_type": "code",
      "source": [
        "ruta = '/content/drive/MyDrive/CosmologiaProyectoFinal/'\n",
        "nombreArchivo = 'SCPUnion_mu_vs_z.txt'\n",
        "data = np.genfromtxt(ruta + nombreArchivo, dtype= \"str\").T\n",
        "data = list(data)\n",
        "#print(data)\n",
        "data.pop(0)\n",
        "#print(data)\n",
        "data = np.array(data, dtype=float)\n",
        "#print(data)"
      ],
      "metadata": {
        "id": "dn7RVLPzeQRB"
      },
      "execution_count": 10,
      "outputs": []
    },
    {
      "cell_type": "code",
      "source": [
        "z= data[0]\n",
        "muSN = data[1]\n",
        "sigmaSN = data[2]"
      ],
      "metadata": {
        "id": "75orJZjmnCvM"
      },
      "execution_count": 11,
      "outputs": []
    },
    {
      "cell_type": "code",
      "source": [
        "plt.plot(z,muSN, \".\", color = \"purple\")\n",
        "plt.xlabel(\"z\")\n",
        "plt.ylabel(\"Mu\")\n",
        "plt.show()"
      ],
      "metadata": {
        "colab": {
          "base_uri": "https://localhost:8080/",
          "height": 279
        },
        "id": "vNv3WPauncnU",
        "outputId": "7012cac5-3ba8-4415-e51a-aa698930dcd2"
      },
      "execution_count": 12,
      "outputs": [
        {
          "output_type": "display_data",
          "data": {
            "text/plain": [
              "<Figure size 432x288 with 1 Axes>"
            ],
            "image/png": "[encoded data removed]"
          },
          "metadata": {
            "needs_background": "light"
          }
        }
      ]
    },
    {
      "cell_type": "code",
      "source": [
        "#Formula\n",
        "#Mu_dL = 5 * math.log10((i/3.08*10**19)+25) donde i = DL\n"
      ],
      "metadata": {
        "id": "NnPl0avfqy0o"
      },
      "execution_count": 13,
      "outputs": []
    },
    {
      "cell_type": "code",
      "source": [
        "#!pip install CosmoloPy"
      ],
      "metadata": {
        "id": "PvCQao_63cn_"
      },
      "execution_count": null,
      "outputs": []
    },
    {
      "cell_type": "code",
      "source": [
        "import numpy as np\n",
        "import matplotlib.pyplot as plt\n",
        "from astropy.cosmology import LambdaCDM\n",
        "import cosmolopy.distance as cd\n",
        "import scipy\n"
      ],
      "metadata": {
        "id": "KXkFLVvDncX9"
      },
      "execution_count": 3,
      "outputs": []
    },
    {
      "cell_type": "code",
      "source": [
        "#Parametros\n",
        "H0 = 67.36\n",
        "Ob0=0.02237/(H0/100)**2\n",
        "OLambda=0.6847 #Valor establecido\n",
        "Tcmb0=2.7255 #Kelvin\n",
        "Om0 = 1. - OLambda\n",
        "print(Om0)"
      ],
      "metadata": {
        "id": "TEj-itOGncRT",
        "colab": {
          "base_uri": "https://localhost:8080/"
        },
        "outputId": "fb242591-044b-4771-aeac-5b0bad1afd49"
      },
      "execution_count": 4,
      "outputs": [
        {
          "output_type": "stream",
          "name": "stdout",
          "text": [
            "0.3153\n"
          ]
        }
      ]
    },
    {
      "cell_type": "code",
      "source": [
        "cosmo = {'omega_M_0' : Om0, 'omega_lambda_0' : OLambda,'h' : H0/100} #omega_k_0: 0.0\n",
        "cosmo = cd.set_omega_k_0(cosmo)\n",
        "cosmoM_L = [Om0, OLambda]\n",
        "print(cosmoM_L)"
      ],
      "metadata": {
        "id": "vT3FDD9kncJ3",
        "colab": {
          "base_uri": "https://localhost:8080/"
        },
        "outputId": "2946156a-4edc-4334-f13c-83bef0989af5"
      },
      "execution_count": 15,
      "outputs": [
        {
          "output_type": "stream",
          "name": "stdout",
          "text": [
            "[0.3153, 0.6847]\n"
          ]
        }
      ]
    },
    {
      "cell_type": "code",
      "source": [
        "zmodel = np.linspace(0.01,2,100,endpoint = False, retstep = False)\n",
        "#print(zmodel)"
      ],
      "metadata": {
        "id": "6zvE_ZLG4I-K"
      },
      "execution_count": 6,
      "outputs": []
    },
    {
      "cell_type": "code",
      "source": [
        "def Lum_distance(z, cosmoM_L):\n",
        "  L_Distance = []\n",
        "  cosmo = {'omega_M_0' : cosmoM_L[0], 'omega_lambda_0' : cosmoM_L[1],'h' : H0/100} #omega_k_0: 0.0\n",
        "  cosmo = cd.set_omega_k_0(cosmo)\n",
        "  for i in z: \n",
        "    L_Distance.append(cd.luminosity_distance(i, **cosmo))\n",
        "  return L_Distance"
      ],
      "metadata": {
        "id": "LOZuaSOH4NL0"
      },
      "execution_count": 7,
      "outputs": []
    },
    {
      "cell_type": "code",
      "source": [
        "def ModuleDistance(LumDist):\n",
        "  Mu=[]\n",
        "  for i in LumDist:\n",
        "    Mu.append(5 * np. log10(i) + 25) # L_Distance / Mpc\n",
        "  return Mu"
      ],
      "metadata": {
        "id": "ov1cBJQ74NIU"
      },
      "execution_count": 8,
      "outputs": []
    },
    {
      "cell_type": "code",
      "source": [
        "DL_Model = Lum_distance(zmodel, cosmoM_L)\n",
        "DL_Obs = Lum_distance(z, cosmoM_L)\n",
        "MuD_Model = ModuleDistance(DL_Model)\n",
        "print(MuD_Model)"
      ],
      "metadata": {
        "colab": {
          "base_uri": "https://localhost:8080/"
        },
        "id": "xHpKWTg64NFv",
        "outputId": "b8a2566a-42f7-4238-adb3-61ddc1b3e42d"
      },
      "execution_count": 14,
      "outputs": [
        {
          "output_type": "stream",
          "name": "stdout",
          "text": [
            "[33.25854908509025, 35.66893026557564, 36.80781584401997, 37.56803276014968, 38.14274729296005, 38.60678699775626, 38.9970984115717, 39.33466748648404, 39.63257047965723, 39.89951220447502, 40.1415831688825, 40.3632137666215, 40.56772918989373, 40.75769016966543, 40.93511167332052, 41.10160853004922, 41.25849545949687, 41.40685763372125, 41.54760161425417, 41.68149287230267, 41.80918392316953, 41.93123576000781, 42.04813441638382, 42.160303929579385, 42.268116605139724, 42.37190123076157, 42.47194971296281, 42.5685224871268, 42.661852963800584, 42.752151210631155, 42.83960702277433, 42.924392500083584, 43.00666422349612, 43.08656510342354, 43.16422595796205, 43.23976686717204, 43.31329834068408, 43.38492232884016, 43.45473310201518, 43.522818018341745, 43.58925819652391, 43.654129107578285, 43.71750109703653, 43.77943984726717, 43.84000678803997, 43.89925946219447, 43.95725185223135, 44.014034672780696, 44.06965563318005, 44.12415967379209, 44.17758917918485, 44.229984170870196, 44.28138248193467, 44.3318199155897, 44.38133038940646, 44.42994606677733, 44.477697476953814, 44.52461362484631, 44.57072209162866, 44.61604912706773, 44.66061973439156, 44.704457748417035, 44.74758590757747, 44.790025920419666, 44.83179852707873, 44.87292355618443, 44.913419977605365, 44.95330595139554, 44.992598873270346, 45.03131541690667, 45.06947157333267, 45.10708268764671, 45.14416349328241, 45.18072814401598, 45.216790243893854, 45.25236287524244, 45.2874586249069, 45.32208960885299, 45.35626749525417, 45.39000352617536, 45.423308537955535, 45.45619298038233, 45.488666934744444, 45.52074013084001, 45.55242196301349, 45.583721505286924, 45.61464752564711, 45.645208499544424, 45.67541262265567, 45.70526782295852, 45.734781772162044, 45.76396189653423, 45.792815387164396, 45.82134920969581, 45.84957011356089, 45.87748464074953, 45.90509913413854, 45.93241974540838, 45.95945244257162, 45.986203017135665]\n"
          ]
        }
      ]
    },
    {
      "cell_type": "code",
      "source": [
        "def ModuleDistanceModel(z, Theta, Mu):\n",
        "  cosmo = {'omega_M_0' : Theta[0], 'omega_lambda_0' : Theta[1],'h' : H0/100} #omega_k_0: 0.0\n",
        "  cosmo = cd.set_omega_k_0(cosmo)\n",
        "  Lum_Dist =[]\n",
        "  MuNew=[]\n",
        "  for i in range(len(z)): \n",
        "    try:\n",
        "      Lum_Dist.append(cd.luminosity_distance(z[i], **cosmo))\n",
        "      MuNew.append(Mu[i])\n",
        "    except TypeError:\n",
        "      pass\n",
        "  MuModel=[]\n",
        "  for i in Lum_Dist:\n",
        "    MuModel.append(5 * np. log10(i) + 25) # L_Distance / Mpc\n",
        "  return MuModel, MuNew"
      ],
      "metadata": {
        "id": "LHpaA7F64NC4"
      },
      "execution_count": 51,
      "outputs": []
    },
    {
      "cell_type": "code",
      "source": [
        "#ln(m/n) = ln(m) – ln(n)\n",
        "def Likelihood(y, sigma, Theta):\n",
        "  likelihood = 0\n",
        "  ymod , ynew = ModuleDistanceModel(z,Theta, y) #Volvi a copiar ya que lo hice solo para la recta y no para un caso general (intento1)\n",
        "  for i in range(len(ymod)):  #Applying ln\n",
        "    numerator = ((-(ynew[i]-ymod[i])**2)/(2*sigma[i]**2))\n",
        "    denominator = np.log(sigma[i] * np.sqrt(2*np.pi))\n",
        "    lik = (numerator-denominator)\n",
        "    likelihood += lik\n",
        "\n",
        "  return likelihood"
      ],
      "metadata": {
        "id": "_3O7kdjq7KRZ"
      },
      "execution_count": 53,
      "outputs": []
    },
    {
      "cell_type": "code",
      "source": [
        "def Prior(Theta):\n",
        "  prior = Theta[0]/Theta[1]\n",
        "  return prior"
      ],
      "metadata": {
        "id": "CkisKxXA7g1w"
      },
      "execution_count": 54,
      "outputs": []
    },
    {
      "cell_type": "code",
      "source": [
        "def AccProb(ThetaTrial, Theta, y, sigma): # y = Mu de datos\n",
        "  likelihoodTrial = Likelihood(y,sigma, ThetaTrial)\n",
        "  priorTrial = Prior(ThetaTrial)\n",
        "  likelihoodTheta = Likelihood(y,sigma, Theta)\n",
        "  priorTheta = Prior(Theta)\n",
        "  P_Trial=likelihoodTrial * priorTrial\n",
        "  P_Theta=likelihoodTheta * priorTheta\n",
        "  Pacc=(min(1,P_Trial/P_Theta))\n",
        "  return Pacc"
      ],
      "metadata": {
        "id": "UXk696F67gyK"
      },
      "execution_count": 55,
      "outputs": []
    },
    {
      "cell_type": "code",
      "source": [
        "def MetropolisHastingsMu(y, N, sigma): #El unico que debia modificar era el likelihood, pero ya copié todo\n",
        "  Theta = [0.1,0.1]\n",
        "  Theta1 =[0.1]\n",
        "  Theta2=[0.1]\n",
        "  for n in range(N):\n",
        "    ThetaStart = Theta\n",
        "    ThetaTrial =[0,0]  \n",
        "    ThetaTrial[0] = np.random.normal(loc=Theta[0], scale=0.2)\n",
        "    ThetaTrial[1] = np.random.normal(loc=Theta[1], scale=0.2)\n",
        "    Pacc = AccProb(ThetaTrial, Theta, y ,sigma)\n",
        "    u = np.random.uniform(0,1)\n",
        "    if Pacc > u:\n",
        "      Theta[0]=ThetaTrial[0]\n",
        "      Theta[1]=ThetaTrial[1]\n",
        "      Theta1.append(Theta[0])\n",
        "      Theta2.append(Theta[1])\n",
        "    else:\n",
        "      Theta[0]=Theta[0]\n",
        "      Theta[1]=Theta[1]\n",
        "      Theta1.append(Theta[0])\n",
        "      Theta2.append(Theta[1])\n",
        "  return Theta, Theta1, Theta2\n",
        "\n",
        "    "
      ],
      "metadata": {
        "id": "oHtn_sP17gvy"
      },
      "execution_count": 56,
      "outputs": []
    },
    {
      "cell_type": "code",
      "source": [
        "#Valores de los parametros: [0.3153, 0.6847] =[Om, OLambda]\n",
        "#z= data[0]\n",
        "#muSN = data[1]\n",
        "#sigmaSN = data[2]"
      ],
      "metadata": {
        "id": "_x3WPL8T7gtq"
      },
      "execution_count": 57,
      "outputs": []
    },
    {
      "cell_type": "markdown",
      "source": [
        "Como me marcaba error de numero complejo en algunas ocasiones, decidí despreciar esos valores asi como despreciar los valores de los datos que estuvieran en esa posicion (para ese valor de z)"
      ],
      "metadata": {
        "id": "ae-aPB5VLJca"
      }
    },
    {
      "cell_type": "code",
      "source": [
        "Theta, Theta1 , Theta2 = MetropolisHastingsMu(muSN, 1000, sigmaSN)\n",
        "plt.plot(Theta1, Theta2, \".\")\n",
        "plt.show()"
      ],
      "metadata": {
        "colab": {
          "base_uri": "https://localhost:8080/",
          "height": 268
        },
        "id": "wgrI0SPK7grS",
        "outputId": "447885eb-a63c-4f96-8b8c-21eb369230de"
      },
      "execution_count": 70,
      "outputs": [
        {
          "output_type": "display_data",
          "data": {
            "text/plain": [
              "<Figure size 432x288 with 1 Axes>"
            ],
            "image/png": "[encoded data removed]"
          },
          "metadata": {
            "needs_background": "light"
          }
        }
      ]
    },
    {
      "cell_type": "markdown",
      "source": [
        "No logro hacer que mis parametros converjan, ademas de esto, tarda aproximadamente 3 min en correr cada vez para obtener nuevas graficas."
      ],
      "metadata": {
        "id": "eXw3oheGPyP3"
      }
    },
    {
      "cell_type": "code",
      "source": [
        "#!pip install getdist\n",
        "##https://getdist.readthedocs.io/en/latest/plots.html#getdist.plots.GetDistPlotter"
      ],
      "metadata": {
        "id": "dv-8kLWnI4kK"
      },
      "execution_count": 67,
      "outputs": []
    }
  ]
}